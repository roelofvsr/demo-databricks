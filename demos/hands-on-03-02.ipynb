{
 "cells": [
  {
   "cell_type": "markdown",
   "metadata": {
    "application/vnd.databricks.v1+cell": {
     "cellMetadata": {},
     "inputWidgets": {},
     "nuid": "de4eedb8-c5ec-447e-bd5c-19150e3f0361",
     "showTitle": false,
     "tableResultSettingsMap": {},
     "title": ""
    },
    "jupyter": {
     "outputs_hidden": true
    }
   },
   "source": [
    "## Create token\n",
    "Go to right top- settings\n",
    "Go to developer \n",
    "Create API key - copy\n",
    "\n",
    "## Install databricks-cli\n",
    "https://learn.microsoft.com/en-us/azure/databricks/dev-tools/cli/install#winget-install\n",
    "\n",
    "## Authenticate to databricks api\n",
    "databricks configure --token --profile <prof-name>"
   ]
  }
 ],
 "metadata": {
  "application/vnd.databricks.v1+notebook": {
   "computePreferences": null,
   "dashboards": [],
   "environmentMetadata": {
    "base_environment": "",
    "environment_version": "2"
   },
   "language": "sql",
   "notebookMetadata": {},
   "notebookName": "hands-on-03-02",
   "widgets": {}
  },
  "language_info": {
   "name": "sql"
  }
 },
 "nbformat": 4,
 "nbformat_minor": 0
}
