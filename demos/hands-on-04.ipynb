{
 "cells": [
  {
   "cell_type": "markdown",
   "metadata": {
    "application/vnd.databricks.v1+cell": {
     "cellMetadata": {},
     "inputWidgets": {},
     "nuid": "f18db6a9-39cc-4eeb-a3df-3a9e6d709bcb",
     "showTitle": false,
     "tableResultSettingsMap": {},
     "title": ""
    }
   },
   "source": [
    "## Create token\n",
    "Go to right top- settings\n",
    "Go to developer \n",
    "Create API key - copy\n",
    "\n",
    "## Install databricks-cli\n",
    "https://learn.microsoft.com/en-us/azure/databricks/dev-tools/cli/install#winget-install\n",
    "\n",
    "## Authenticate to databricks api\n",
    "databricks configure --token --profile <prof-name>"
   ]
  }
 ],
 "metadata": {
  "application/vnd.databricks.v1+notebook": {
   "computePreferences": null,
   "dashboards": [],
   "environmentMetadata": {
    "base_environment": "",
    "environment_version": "2"
   },
   "language": "sql",
   "notebookMetadata": {},
   "notebookName": "hands-on-04",
   "widgets": {}
  },
  "language_info": {
   "name": "sql"
  }
 },
 "nbformat": 4,
 "nbformat_minor": 0
}
